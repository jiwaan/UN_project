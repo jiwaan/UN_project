{
  "nbformat": 4,
  "nbformat_minor": 0,
  "metadata": {
    "colab": {
      "name": "test.ipynb의 사본",
      "provenance": [],
      "collapsed_sections": []
    },
    "kernelspec": {
      "name": "python3",
      "display_name": "Python 3"
    },
    "language_info": {
      "name": "python"
    }
  },
  "cells": [
    {
      "cell_type": "markdown",
      "source": [
        "#### 프로그래밍이란?\n",
        "  - 프로그래밍 언어를 사용하여 프로그래밍을 개발하는 것\n",
        "  - 논리적인 사고를 가질 수 있다.\n",
        "\n",
        "#### programming language?\n",
        "  - 프로그래밍을 개발할 때 사용하는 도구\n",
        "  - 인간이 원하는 것을 컴퓨터에게 명령할 때 사용하는 컴퓨터가 이해할 수 있는 언어\n",
        "\n",
        "#### 파이썬?\n",
        "  - 쉽다. 간결하다.\n",
        "  - 라이브러리가 많다."
      ],
      "metadata": {
        "id": "dVQqbUIEZZaP"
      }
    },
    {
      "cell_type": "code",
      "source": [
        "a = 2\n",
        "a"
      ],
      "metadata": {
        "colab": {
          "base_uri": "https://localhost:8080/"
        },
        "id": "hscdLRWOhU8n",
        "outputId": "7f14cea9-86e0-4a7f-de0d-d5cb53911865"
      },
      "execution_count": null,
      "outputs": [
        {
          "output_type": "execute_result",
          "data": {
            "text/plain": [
              "2"
            ]
          },
          "metadata": {},
          "execution_count": 4
        }
      ]
    },
    {
      "cell_type": "code",
      "source": [
        "a == 2"
      ],
      "metadata": {
        "colab": {
          "base_uri": "https://localhost:8080/"
        },
        "id": "wjHGQXmdhe6F",
        "outputId": "1df35ee0-e011-42de-a1cd-147640ef6165"
      },
      "execution_count": null,
      "outputs": [
        {
          "output_type": "execute_result",
          "data": {
            "text/plain": [
              "True"
            ]
          },
          "metadata": {},
          "execution_count": 5
        }
      ]
    },
    {
      "cell_type": "markdown",
      "source": [
        "### Chapter 2. Data: Types, Values, Variables, and Names"
      ],
      "metadata": {
        "id": "5oFT5rOmfIkD"
      }
    },
    {
      "cell_type": "markdown",
      "source": [
        "- 변수|variable: 특정 값을 지정하는 공간\n",
        "   a\n",
        "- 값|value\n",
        "   2\n",
        "- 할당하다|assign: 변수에 값을 넣는 과정\n",
        "   \"2를 a에 넣었다.\"\n",
        "\n",
        "   *** a는 2다. a == 2\n",
        "- 자료형|type: 데이터의 형태 a 데이터의 형태? integer (int type이다.)"
      ],
      "metadata": {
        "id": "UVdcveexfJA0"
      }
    },
    {
      "cell_type": "code",
      "source": [
        "print(a)"
      ],
      "metadata": {
        "colab": {
          "base_uri": "https://localhost:8080/"
        },
        "id": "hF2B-QcUhx0v",
        "outputId": "54612705-c873-4d6b-f9de-7f21b090cc60"
      },
      "execution_count": null,
      "outputs": [
        {
          "output_type": "stream",
          "name": "stdout",
          "text": [
            "2\n"
          ]
        }
      ]
    },
    {
      "cell_type": "code",
      "source": [
        "a"
      ],
      "metadata": {
        "colab": {
          "base_uri": "https://localhost:8080/"
        },
        "id": "UorxgkxHhzfs",
        "outputId": "7eaca10b-6920-407f-b487-6b43890b17c9"
      },
      "execution_count": null,
      "outputs": [
        {
          "output_type": "execute_result",
          "data": {
            "text/plain": [
              "2"
            ]
          },
          "metadata": {},
          "execution_count": 7
        }
      ]
    },
    {
      "cell_type": "code",
      "source": [
        "type(a)"
      ],
      "metadata": {
        "colab": {
          "base_uri": "https://localhost:8080/"
        },
        "id": "JttxM1yMkTSe",
        "outputId": "a27e0a04-9cdc-42b5-a791-095e1aa72bd8"
      },
      "execution_count": null,
      "outputs": [
        {
          "output_type": "execute_result",
          "data": {
            "text/plain": [
              "int"
            ]
          },
          "metadata": {},
          "execution_count": 8
        }
      ]
    },
    {
      "cell_type": "code",
      "source": [
        "type(a==2) # bool, boolean T/F"
      ],
      "metadata": {
        "colab": {
          "base_uri": "https://localhost:8080/"
        },
        "id": "AWbgfJq-kU45",
        "outputId": "e9d71578-52eb-491e-cc8b-1a5997b153eb"
      },
      "execution_count": null,
      "outputs": [
        {
          "output_type": "execute_result",
          "data": {
            "text/plain": [
              "bool"
            ]
          },
          "metadata": {},
          "execution_count": 9
        }
      ]
    },
    {
      "cell_type": "markdown",
      "source": [
        "### Type\n",
        "- integer|정수 : 1,2,3, .. (int)\n",
        "- floating number|부동소수점: 1.0, 2.0, ..., 0.4 (float)\n",
        "- string|문자열: \"1\", \"apple\" (str)\n",
        "- boolean|불리언 : True/False (bool)"
      ],
      "metadata": {
        "id": "dKw8T0sIlPUL"
      }
    },
    {
      "cell_type": "code",
      "source": [
        "type(\"1\")"
      ],
      "metadata": {
        "colab": {
          "base_uri": "https://localhost:8080/"
        },
        "id": "tTZJwovwlX1z",
        "outputId": "e7d1cc44-6d52-4651-a86f-1bd49b880fe6"
      },
      "execution_count": null,
      "outputs": [
        {
          "output_type": "execute_result",
          "data": {
            "text/plain": [
              "str"
            ]
          },
          "metadata": {},
          "execution_count": 11
        }
      ]
    },
    {
      "cell_type": "code",
      "source": [
        "type(\"apple\")"
      ],
      "metadata": {
        "colab": {
          "base_uri": "https://localhost:8080/"
        },
        "id": "LMf3iOwxle25",
        "outputId": "18f41a0f-77f7-4eee-9f63-396b7c76dd18"
      },
      "execution_count": null,
      "outputs": [
        {
          "output_type": "execute_result",
          "data": {
            "text/plain": [
              "str"
            ]
          },
          "metadata": {},
          "execution_count": 12
        }
      ]
    },
    {
      "cell_type": "code",
      "source": [
        "type(apple) #변수명, 변수를 직접 사용하는 습관"
      ],
      "metadata": {
        "id": "rKR5PMoGlg6s"
      },
      "execution_count": null,
      "outputs": []
    },
    {
      "cell_type": "markdown",
      "source": [
        "### 할당\n",
        "- = 이기호를 사용한다.\n",
        "- 수학에서 '양변이 같다'라는 의미로 사용되지만, 프로그래밍에서는 '할당한다'라는 의미가 추가된다.\n",
        "- \"오른쪽으로 값을 왼쪽에 할당한다\"\n",
        "- 1. 오른쪽에 있는 모든 것은 값을 가져야 한다. (초기를 해야 한다.)"
      ],
      "metadata": {
        "id": "QpNV3TWFlqOP"
      }
    },
    {
      "cell_type": "code",
      "source": [
        "x = 4 # 초기화\n",
        "y = x + 3"
      ],
      "metadata": {
        "id": "G88mEJzVm64F"
      },
      "execution_count": null,
      "outputs": []
    },
    {
      "cell_type": "code",
      "source": [
        "x,y"
      ],
      "metadata": {
        "colab": {
          "base_uri": "https://localhost:8080/"
        },
        "id": "-tty56dYm_gR",
        "outputId": "a88c87b6-36cc-4465-99bc-455fb06651e5"
      },
      "execution_count": null,
      "outputs": [
        {
          "output_type": "execute_result",
          "data": {
            "text/plain": [
              "(4, 7)"
            ]
          },
          "metadata": {},
          "execution_count": 15
        }
      ]
    },
    {
      "cell_type": "code",
      "source": [
        "name = 'kim'\n",
        "name = 'Lee'\n",
        "name = 'park'\n",
        "name = 4 \n",
        "# 마지막으로 선언한 값이 된다. 변수명 동일하게 사용하지 말라"
      ],
      "metadata": {
        "id": "oYSP8K6knBJ-"
      },
      "execution_count": null,
      "outputs": []
    },
    {
      "cell_type": "markdown",
      "source": [
        "### 변수명 정하기\n",
        "- 나쁜 변수명: a, b, c, a1, b1, ...\n",
        "- 의미있는 이름으로 선언해야 한다.\n",
        "- 소문자, 대문자, 숫자, 언더바를 사용한다. 예) name, name2, my_name, Name, NAME"
      ],
      "metadata": {
        "id": "jPlydXltnT1s"
      }
    },
    {
      "cell_type": "code",
      "source": [
        "name = 'juliette'\n",
        "name1 = 'jessica'\n",
        "my_name = 'laura'\n",
        "# myName 카멜표기법\n",
        "\n",
        "print(name, name1, my_name, sep=',')"
      ],
      "metadata": {
        "colab": {
          "base_uri": "https://localhost:8080/"
        },
        "id": "4ZBo7M6vnnZs",
        "outputId": "f9ca04ac-9a09-43f4-e397-42062a4327b3"
      },
      "execution_count": null,
      "outputs": [
        {
          "output_type": "stream",
          "name": "stdout",
          "text": [
            "juliette,jessica,laura\n"
          ]
        }
      ]
    },
    {
      "cell_type": "markdown",
      "source": [
        "- 안되는 것 \n",
        "  - 숫자로 시작할 수 없다. \n",
        "    예: 22 name, 22_name\n",
        "  - 예약어로 선언할 수 없다.\n",
        "    예: def, False, ..."
      ],
      "metadata": {
        "id": "qCZr-K3gn6B8"
      }
    },
    {
      "cell_type": "code",
      "source": [
        "#if = 'KIm'\n",
        "help(\"keywords\")"
      ],
      "metadata": {
        "colab": {
          "base_uri": "https://localhost:8080/"
        },
        "id": "eJhTIUNioLTF",
        "outputId": "fa3e464c-552c-4056-a59c-fa04ad00b5d7"
      },
      "execution_count": null,
      "outputs": [
        {
          "output_type": "stream",
          "name": "stdout",
          "text": [
            "\n",
            "Here is a list of the Python keywords.  Enter any keyword to get more help.\n",
            "\n",
            "False               class               from                or\n",
            "None                continue            global              pass\n",
            "True                def                 if                  raise\n",
            "and                 del                 import              return\n",
            "as                  elif                in                  try\n",
            "assert              else                is                  while\n",
            "async               except              lambda              with\n",
            "await               finally             nonlocal            yield\n",
            "break               for                 not                 \n",
            "\n"
          ]
        }
      ]
    },
    {
      "cell_type": "markdown",
      "source": [
        "*조심할 것 : 특별한 용도가 있기 때문에\n",
        "  - 언더바로 시작하는 변수명 :_name\n",
        "  - 더블 언더바로 시작하는 변수명: __name\n",
        "  - 대문자로 시작하는 변수명 : Name\n",
        "  - 전체 대문자 : NAME"
      ],
      "metadata": {
        "id": "A_1Wx4nToXRf"
      }
    },
    {
      "cell_type": "code",
      "source": [
        "#변수명은 대소문자를 구분한다. \n",
        "Num = 43\n",
        "num = 44"
      ],
      "metadata": {
        "id": "Dqe_lzXkossI"
      },
      "execution_count": null,
      "outputs": []
    },
    {
      "cell_type": "code",
      "source": [
        "Num == num"
      ],
      "metadata": {
        "colab": {
          "base_uri": "https://localhost:8080/"
        },
        "id": "6bXNlTRLo5s_",
        "outputId": "b0c0e41c-79c9-4aec-8f91-6f71e2f2eae6"
      },
      "execution_count": null,
      "outputs": [
        {
          "output_type": "execute_result",
          "data": {
            "text/plain": [
              "False"
            ]
          },
          "metadata": {},
          "execution_count": 19
        }
      ]
    },
    {
      "cell_type": "code",
      "source": [
        "num = 'number'\n",
        "Num = 'Number'\n",
        "\n",
        "num == Num"
      ],
      "metadata": {
        "colab": {
          "base_uri": "https://localhost:8080/"
        },
        "id": "BUGUL6T_o7o6",
        "outputId": "7c064d61-bedc-496a-8de3-3fdfc1c17007"
      },
      "execution_count": null,
      "outputs": [
        {
          "output_type": "execute_result",
          "data": {
            "text/plain": [
              "False"
            ]
          },
          "metadata": {},
          "execution_count": 20
        }
      ]
    },
    {
      "cell_type": "code",
      "source": [
        "num != Num"
      ],
      "metadata": {
        "colab": {
          "base_uri": "https://localhost:8080/"
        },
        "id": "e7TSB_cmpCk4",
        "outputId": "351b02f3-2d22-4a7a-d440-7361dbd581ac"
      },
      "execution_count": null,
      "outputs": [
        {
          "output_type": "execute_result",
          "data": {
            "text/plain": [
              "True"
            ]
          },
          "metadata": {},
          "execution_count": 21
        }
      ]
    }
  ]
}